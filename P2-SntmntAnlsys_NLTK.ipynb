{
 "cells": [
  {
   "cell_type": "markdown",
   "id": "6b2d5b87-f680-41e4-adca-a82fae7d2a1b",
   "metadata": {},
   "source": [
    "# Sentiment Analysis using Python and NLTK"
   ]
  },
  {
   "cell_type": "code",
   "execution_count": null,
   "id": "b6442840-977e-4057-b4d1-2adf679b0f2b",
   "metadata": {},
   "outputs": [],
   "source": []
  },
  {
   "cell_type": "markdown",
   "id": "9997c974-8bf8-400a-b09e-56159c6a6431",
   "metadata": {},
   "source": [
    "## How are we going to be doing this?\n",
    "Python, being Python, apart from its incredible readability, has some remarkable libraries at hand. One of which is NLTK. NLTK or Natural Language Tool Kit is one of the best Python NLP libraries out there. The functionality it leaves at your fingertips while maintaining its ease of use and again, readability is just fantastic.\n",
    "\n",
    "In fact, we’re going to be completing this mini project under 25 lines of code. And you’re most probably going to understand each line as you read through it. Crazy, I know.\n",
    "\n",
    "Let’s get right into it !\n",
    "- IDE \n",
    "    Personally whenever I’m doing anything even relatively fancy, in Python, I use Jupyter Lab."
   ]
  },
  {
   "cell_type": "markdown",
   "id": "6c199b8e-11e4-4ccd-a77b-e1c57027d51a",
   "metadata": {},
   "source": [
    "Now, we’ve got to get hold of the libraries we need. Just 4, super easy to get libraries.\n",
    "\n",
    "- NLTK\n",
    "- Numpy\n",
    "- Pandas\n",
    "- Scikit-learn"
   ]
  },
  {
   "cell_type": "code",
   "execution_count": null,
   "id": "c5fa017a-13de-40f0-9223-561437ed6d77",
   "metadata": {},
   "outputs": [],
   "source": []
  },
  {
   "cell_type": "code",
   "execution_count": 1,
   "id": "f2396bf5-cdbc-4452-b6cd-1e5aae847acb",
   "metadata": {},
   "outputs": [],
   "source": [
    "import pandas as pd\n",
    "import numpy as np\n",
    "from pathlib import Path"
   ]
  },
  {
   "cell_type": "code",
   "execution_count": 2,
   "id": "9e38aa6b-1670-4011-84c2-d05ec5e5be72",
   "metadata": {},
   "outputs": [
    {
     "name": "stderr",
     "output_type": "stream",
     "text": [
      "[nltk_data] Downloading package vader_lexicon to\n",
      "[nltk_data]     C:\\Users\\gotha\\AppData\\Roaming\\nltk_data...\n",
      "[nltk_data]   Package vader_lexicon is already up-to-date!\n"
     ]
    }
   ],
   "source": [
    "import nltk\n",
    "nltk.download('vader_lexicon') # one time only\n",
    "from nltk.sentiment.vader import SentimentIntensityAnalyzer \n",
    "vader = SentimentIntensityAnalyzer() # or whatever you want to call it"
   ]
  },
  {
   "cell_type": "markdown",
   "id": "1993ec60-7c6b-42b7-8d5f-52bc1bafa0a4",
   "metadata": {},
   "source": [
    "### What is this ‘VADER’ ?\n",
    "While this is the official page for NLTK’s VADER, it’s actually the code and not an explanation of VADER which by the way, does not, refer to Darth Vader, very sad, I know.\n",
    "\n",
    "It actually stands for Valence Aware Dictionary and sEntiment Reasoner. It’s basically going to do all the sentiment analysis for us. So convenient. I mean, at this rate jobs are definitely going to be vanishing faster. (No, I’m kidding)\n",
    "\n",
    "The way this magical downloadable works, is by mapping the word you pass into it, to lexical features with emotional intensities. In English, since you ask, that means figuring out, let’s just call them synonyms for now, to figure out what that word relates to and then gives it a score. A sentiment score, to be precise.\n",
    "\n",
    "So now that each word has a sentiment score, the score of a paragraph of words, is going to be, you guessed it, the sum of all the sentiment scores. Shocking, I know. \n",
    "\n",
    "Now let’s try out what this ‘VADER’ can do. Write the following and run it"
   ]
  },
  {
   "cell_type": "code",
   "execution_count": 3,
   "id": "0e991fcc-f7c7-46b0-9ad7-439498a7f8c5",
   "metadata": {},
   "outputs": [
    {
     "data": {
      "text/plain": [
       "{'neg': 0.0, 'neu': 0.308, 'pos': 0.692, 'compound': 0.6697}"
      ]
     },
     "execution_count": 3,
     "metadata": {},
     "output_type": "execute_result"
    }
   ],
   "source": [
    "sample = 'I really love NVIDIA'\n",
    "vader.polarity_scores(sample)"
   ]
  },
  {
   "cell_type": "markdown",
   "id": "92ea8012-974a-40a0-a7b4-b6589bf5985a",
   "metadata": {},
   "source": [
    "So, it was 69.2% positive. Which might not be perfect, but it definitely gets the job done, as you’ll see.\n",
    "\n",
    "In case you’re wondering, the compound value is basically the normal of the 3 values negative, positive and neutral.\n",
    "\n",
    "Now, try this"
   ]
  },
  {
   "cell_type": "code",
   "execution_count": 4,
   "id": "f95fdd58-1d00-41f6-8624-f29c11029ab4",
   "metadata": {},
   "outputs": [
    {
     "data": {
      "text/plain": [
       "{'neg': 0.549, 'neu': 0.451, 'pos': 0.0, 'compound': -0.5642}"
      ]
     },
     "execution_count": 4,
     "metadata": {},
     "output_type": "execute_result"
    }
   ],
   "source": [
    "sample = 'I really don\\'t love NVIDIA'\n",
    "vader.polarity_scores(sample)"
   ]
  },
  {
   "cell_type": "markdown",
   "id": "8b0f2d63-2ee6-4e52-82b3-925aabf0c85f",
   "metadata": {},
   "source": [
    "54.9% negative, whew, by the skin of its teeth. \n",
    "\n",
    "Now let’s work on some real world data\n",
    "Here’s a file with Amazon reviews of a product from which we’re going to be extracting sentiments. Go ahead and download it. Also ensure that it’s in the same directory as the python file you’re working on. Otherwise remember to add the correct path to it.\n",
    "\n",
    "We’re going to be needing both pandas and numpy now"
   ]
  },
  {
   "cell_type": "code",
   "execution_count": 5,
   "id": "182ee14b-d27b-4df7-b2a6-a54180f1141c",
   "metadata": {},
   "outputs": [
    {
     "data": {
      "text/html": [
       "<div>\n",
       "<style scoped>\n",
       "    .dataframe tbody tr th:only-of-type {\n",
       "        vertical-align: middle;\n",
       "    }\n",
       "\n",
       "    .dataframe tbody tr th {\n",
       "        vertical-align: top;\n",
       "    }\n",
       "\n",
       "    .dataframe thead th {\n",
       "        text-align: right;\n",
       "    }\n",
       "</style>\n",
       "<table border=\"1\" class=\"dataframe\">\n",
       "  <thead>\n",
       "    <tr style=\"text-align: right;\">\n",
       "      <th></th>\n",
       "      <th>label</th>\n",
       "      <th>review,,,,,,,,,,,,,,,,,,,,,,,,</th>\n",
       "    </tr>\n",
       "  </thead>\n",
       "  <tbody>\n",
       "    <tr>\n",
       "      <th>0</th>\n",
       "      <td>pos</td>\n",
       "      <td>Stuning even for the non-gamer: This sound tra...</td>\n",
       "    </tr>\n",
       "    <tr>\n",
       "      <th>1</th>\n",
       "      <td>pos</td>\n",
       "      <td>The best soundtrack ever to anything.: I'm rea...</td>\n",
       "    </tr>\n",
       "    <tr>\n",
       "      <th>2</th>\n",
       "      <td>pos\\t\"Amazing!: This soundtrack is my favorite...</td>\n",
       "      <td>NaN</td>\n",
       "    </tr>\n",
       "    <tr>\n",
       "      <th>3</th>\n",
       "      <td>pos</td>\n",
       "      <td>Excellent Soundtrack: I truly like this soundt...</td>\n",
       "    </tr>\n",
       "    <tr>\n",
       "      <th>4</th>\n",
       "      <td>pos</td>\n",
       "      <td>Remember,Pull Your Jaw Off The Floor After Hea...</td>\n",
       "    </tr>\n",
       "  </tbody>\n",
       "</table>\n",
       "</div>"
      ],
      "text/plain": [
       "                                               label  \\\n",
       "0                                                pos   \n",
       "1                                                pos   \n",
       "2  pos\\t\"Amazing!: This soundtrack is my favorite...   \n",
       "3                                                pos   \n",
       "4                                                pos   \n",
       "\n",
       "                      review,,,,,,,,,,,,,,,,,,,,,,,,  \n",
       "0  Stuning even for the non-gamer: This sound tra...  \n",
       "1  The best soundtrack ever to anything.: I'm rea...  \n",
       "2                                                NaN  \n",
       "3  Excellent Soundtrack: I truly like this soundt...  \n",
       "4  Remember,Pull Your Jaw Off The Floor After Hea...  "
      ]
     },
     "metadata": {},
     "output_type": "display_data"
    },
    {
     "data": {
      "text/html": [
       "<div>\n",
       "<style scoped>\n",
       "    .dataframe tbody tr th:only-of-type {\n",
       "        vertical-align: middle;\n",
       "    }\n",
       "\n",
       "    .dataframe tbody tr th {\n",
       "        vertical-align: top;\n",
       "    }\n",
       "\n",
       "    .dataframe thead th {\n",
       "        text-align: right;\n",
       "    }\n",
       "</style>\n",
       "<table border=\"1\" class=\"dataframe\">\n",
       "  <thead>\n",
       "    <tr style=\"text-align: right;\">\n",
       "      <th></th>\n",
       "      <th>label</th>\n",
       "      <th>review,,,,,,,,,,,,,,,,,,,,,,,,</th>\n",
       "    </tr>\n",
       "  </thead>\n",
       "  <tbody>\n",
       "    <tr>\n",
       "      <th>9995</th>\n",
       "      <td>pos\\t\"A revelation of life in small town Ameri...</td>\n",
       "      <td>NaN</td>\n",
       "    </tr>\n",
       "    <tr>\n",
       "      <th>9996</th>\n",
       "      <td>pos</td>\n",
       "      <td>Great biography of a very interesting journali...</td>\n",
       "    </tr>\n",
       "    <tr>\n",
       "      <th>9997</th>\n",
       "      <td>neg</td>\n",
       "      <td>Interesting Subject; Poor Presentation: You'd ...</td>\n",
       "    </tr>\n",
       "    <tr>\n",
       "      <th>9998</th>\n",
       "      <td>neg</td>\n",
       "      <td>Don't buy: The box looked used and it is obvio...</td>\n",
       "    </tr>\n",
       "    <tr>\n",
       "      <th>9999</th>\n",
       "      <td>pos</td>\n",
       "      <td>Beautiful Pen and Fast Delivery.: The pen was ...</td>\n",
       "    </tr>\n",
       "  </tbody>\n",
       "</table>\n",
       "</div>"
      ],
      "text/plain": [
       "                                                  label  \\\n",
       "9995  pos\\t\"A revelation of life in small town Ameri...   \n",
       "9996                                                pos   \n",
       "9997                                                neg   \n",
       "9998                                                neg   \n",
       "9999                                                pos   \n",
       "\n",
       "                         review,,,,,,,,,,,,,,,,,,,,,,,,  \n",
       "9995                                                NaN  \n",
       "9996  Great biography of a very interesting journali...  \n",
       "9997  Interesting Subject; Poor Presentation: You'd ...  \n",
       "9998  Don't buy: The box looked used and it is obvio...  \n",
       "9999  Beautiful Pen and Fast Delivery.: The pen was ...  "
      ]
     },
     "metadata": {},
     "output_type": "display_data"
    }
   ],
   "source": [
    "# file with Amazon reviews of a product from which we’re going to be extracting sentiments\n",
    "amzn_df = pd.read_csv('./Resources/amazonreviews.csv', sep='\\t')\n",
    "display(amzn_df.head())\n",
    "display(amzn_df.tail())"
   ]
  },
  {
   "cell_type": "markdown",
   "id": "30965344-6dfd-467b-9231-bf98da0aa398",
   "metadata": {},
   "source": [
    "In the above code, we’ve initialized a Pandas Dataframe object, and called it to view the top 5 objects in the dataframe.\n",
    "\n",
    "This dataset already has all the reviews categorized under positive and negative. This is just for you to cross check the values you get back from VADER and calculate your metrics.\n",
    "\n",
    "To see how many positive and negative reviews we have, type in the following"
   ]
  },
  {
   "cell_type": "code",
   "execution_count": 6,
   "id": "fe5cc964-2f7b-4a35-887e-440dbcad59b9",
   "metadata": {},
   "outputs": [
    {
     "data": {
      "text/plain": [
       "neg                                                                                                                                                                                                                                                                                                                                                                                                                                                                                                                                                                                                                                                                                                                                                                                                                                                                                                                        3985\n",
       "pos                                                                                                                                                                                                                                                                                                                                                                                                                                                                                                                                                                                                                                                                                                                                                                                                                                                                                                                        3955\n",
       "pos\\t\"Thinking Book (Review written by Muad'Dib): This is a really wierd book. In the beginning it starts out like any country in a war,but later it delves deeper. The world being controlled by three super-powers that (if you read to Goldstein's book) would supposedly,and I agree,would gain absolutly nothing from all this. The are simply trying to use excess junk. Anyways,Orwell did an amazing job on this book,creating several radically new ideas for the time,including creating Newspeak,\"Big Brother (which was the basis for the show \"\"\"\"Big Brother\"\"\"\")\",and,the worst,Thoughtcrime. Anyways,this is DEFINATELY not a childs book,so you should keep it out of the hands of anyone ignorant to the world. It makes you think of the present,\"and the future. If you like Orwell's books you'll LOVE Animal Farm.\"\"\",,,,,,,,,,,                                                                        1\n",
       "neg\\t\"1984 is a classic that doesn't deserve to be.: While regarded as a \"\"classic\"\" by some literary scholars,1984 is devoid of nearly every element of classical literature. The fall of Communism has erased nearly every trace of relevance this book may once have had. Its warnings of the evils of totalitarianism were overly alarmist by even Cold War standards and are even more so today. The absence of strong,3-D characters makes even a man vs. society theme seem sorely lacking in depth . The only redeeming quality of this book may lie in providing future readers with an McCarthyist view of the evils of communism from the standpoint of a conservative 50s faux intellectual. If you're looking for a deeper,better-written,and tremendously more entertaining book,try Orwell's Animal Farm. Even walking,\"talking farm animals seem realistic compared to 1984.\"\"\",,,,,,,,,,,,,,,,,,             1\n",
       "neg\\t\"Rediculously boring and redundent: \"\"1984\"\" by George Orwell was extremely boring. The text was so long and unelaborate. I think that the text could have needed some more details and more drama. I have heard many good things about this book,\"but aparently I was dissapointed after reading this. I had expected the same great literary work as \"\"\"\"Animal Farm\"\"\"\" which I had loved and read many times in highschool. I was greatly dissapointed with the redundent and unecessary words. I would definitely not recommend this book to someone who likes drama and more elaborate text.\"\"\",,,,,,,,,,,,,,,,,,,,,,,                                                                                                                                                                                                                                                                                             1\n",
       "                                                                                                                                                                                                                                                                                                                                                                                                                                                                                                                                                                                                                                                                                                                                                                                                                                                                                                                           ... \n",
       "pos\\t\"If you think Metallica is kiddie-music...: This album is sweet. I originally bought it just to listen to \"\"Tubthumper\"\" but by now that has become my least favorite song. One of the postive aspects of the CD is the constantly changing tempo of each song. The many different styles and tempos in each song and the fact that the songs have some meaning make it all the more worthwhile. Buy this CD. You will find yourself headbanging to every song on this album in no time.\",,,,,,,,,,,,,,,,,,,,,,,,                                                                                                                                                                                                                                                                                                                                                                                                        1\n",
       "neg\\t\"So-so: I thought \"\"Tubthumping\"\" was pretty good,no,really cool,but the rest! UGH! Those songs were a complete BORE. If you are planning on buying this CD,\"I strongly advise you not to. Buy a single of \"\"\"\"Tubthumping\"\"\"\" instead\",or borrow it from a friend,if you don't have any friends,\"from a CD rental store.My apologies to the people who enjoyed this CD.\"\"\",,,,,,,,,,,,,,,,,                                                                                                                                                                                                                                                                                                                                                                                                                                                                                                                             1\n",
       "neg\\t\"r u all kidding? this album sucks horribly...: yet even some of you who agree that the album bites still say that \"\"tub thumping\"\" is okay,\"even if it \"\"\"\"gets old after awhile\"\"\"\". that song is CRAP!!! has to be one of the worst songs ever to get play. EVER! sounds like a bad radio commercial for some english beer they're trying to market in the states.that song (if you can call a random string of cheesy choruses a song) makes the strongest argument AGAINST ANARCHY that i've ever heard. proves that people who can't agree on anything can't make a song that makes any sense or follows any consistent theme.gotta go - just threw up in my mouth from the bilious memory of this worthless pop drivel.\"\"\",,,,,,,,,,,,,,,,,,,,,,,                                                                                                                                                                 1\n",
       "neg\\t\"These guys suck: Chumbawumba are the lamest band I've ever heard. The song \"\"Tubthumping is also so annoying. I heard the whole cd from a friend and he and I both think it sucks. I think these guys are just a bunch of \"\"one-hit-wonders\"\". Please save your money and buy something else.\",,,,,,,,,,,,,,,,,,,,,,,,                                                                                                                                                                                                                                                                                                                                                                                                                                                                                                                                                                                                  1\n",
       "pos\\t\"A revelation of life in small town America in early 1900s: Though a scholarly biography,\"the book reveals much more about life in a small mid-west America town at the turn of the century than many other biographies or novels. Well worth reading for an insight into \"\"\"\"news\"\"\"\" that didn't make most newspapers but which was true in revealing life\",the book is nicely crafted and the author writes with a knowing touch.One would wish for more intimate details of the subject's life,but he was a private man,kept no diary,and did not tell his innermost thoughts to his family. The book,however,succeeds,because it reveals the town,Lamar,MO (which happened to be President Truman's birthplace,\"and where Wyatt Earp had been Marshall and where the Earp kinfolk lived on) and some of the foibles and fancies of American life. I hope the author writes another book soon.\"\"\",,,,,,,,,,,,,       1\n",
       "Name: label, Length: 2062, dtype: int64"
      ]
     },
     "execution_count": 6,
     "metadata": {},
     "output_type": "execute_result"
    }
   ],
   "source": [
    "amzn_df['label'].value_counts()"
   ]
  },
  {
   "cell_type": "code",
   "execution_count": 7,
   "id": "5b58ee68-5e03-433f-a948-7bb85cbcd164",
   "metadata": {},
   "outputs": [],
   "source": [
    "# amzn_df.value_counts()"
   ]
  },
  {
   "cell_type": "markdown",
   "id": "82a79c86-abc8-48a6-bb29-bcb272123ce5",
   "metadata": {},
   "source": [
    "### Let’s try one of the objects out, shall we ?\n",
    "\n",
    "But before we do that, let’s ensure that our dataset is nice and clean, i.e, ensure that there aren’t any blank objects."
   ]
  },
  {
   "cell_type": "code",
   "execution_count": 8,
   "id": "bf981ea9-eba7-4d07-9101-ffb4fe12b37c",
   "metadata": {},
   "outputs": [
    {
     "data": {
      "text/html": [
       "<div>\n",
       "<style scoped>\n",
       "    .dataframe tbody tr th:only-of-type {\n",
       "        vertical-align: middle;\n",
       "    }\n",
       "\n",
       "    .dataframe tbody tr th {\n",
       "        vertical-align: top;\n",
       "    }\n",
       "\n",
       "    .dataframe thead th {\n",
       "        text-align: right;\n",
       "    }\n",
       "</style>\n",
       "<table border=\"1\" class=\"dataframe\">\n",
       "  <thead>\n",
       "    <tr style=\"text-align: right;\">\n",
       "      <th></th>\n",
       "      <th>label</th>\n",
       "      <th>review,,,,,,,,,,,,,,,,,,,,,,,,</th>\n",
       "    </tr>\n",
       "  </thead>\n",
       "  <tbody>\n",
       "    <tr>\n",
       "      <th>0</th>\n",
       "      <td>pos</td>\n",
       "      <td>Stuning even for the non-gamer: This sound tra...</td>\n",
       "    </tr>\n",
       "    <tr>\n",
       "      <th>1</th>\n",
       "      <td>pos</td>\n",
       "      <td>The best soundtrack ever to anything.: I'm rea...</td>\n",
       "    </tr>\n",
       "    <tr>\n",
       "      <th>3</th>\n",
       "      <td>pos</td>\n",
       "      <td>Excellent Soundtrack: I truly like this soundt...</td>\n",
       "    </tr>\n",
       "    <tr>\n",
       "      <th>4</th>\n",
       "      <td>pos</td>\n",
       "      <td>Remember,Pull Your Jaw Off The Floor After Hea...</td>\n",
       "    </tr>\n",
       "    <tr>\n",
       "      <th>5</th>\n",
       "      <td>pos</td>\n",
       "      <td>an absolute masterpiece: I am quite sure any o...</td>\n",
       "    </tr>\n",
       "    <tr>\n",
       "      <th>...</th>\n",
       "      <td>...</td>\n",
       "      <td>...</td>\n",
       "    </tr>\n",
       "    <tr>\n",
       "      <th>9994</th>\n",
       "      <td>neg</td>\n",
       "      <td>Sorry Jim: As a former realtor,Mr. Cole owes t...</td>\n",
       "    </tr>\n",
       "    <tr>\n",
       "      <th>9996</th>\n",
       "      <td>pos</td>\n",
       "      <td>Great biography of a very interesting journali...</td>\n",
       "    </tr>\n",
       "    <tr>\n",
       "      <th>9997</th>\n",
       "      <td>neg</td>\n",
       "      <td>Interesting Subject; Poor Presentation: You'd ...</td>\n",
       "    </tr>\n",
       "    <tr>\n",
       "      <th>9998</th>\n",
       "      <td>neg</td>\n",
       "      <td>Don't buy: The box looked used and it is obvio...</td>\n",
       "    </tr>\n",
       "    <tr>\n",
       "      <th>9999</th>\n",
       "      <td>pos</td>\n",
       "      <td>Beautiful Pen and Fast Delivery.: The pen was ...</td>\n",
       "    </tr>\n",
       "  </tbody>\n",
       "</table>\n",
       "<p>7940 rows × 2 columns</p>\n",
       "</div>"
      ],
      "text/plain": [
       "     label                     review,,,,,,,,,,,,,,,,,,,,,,,,\n",
       "0      pos  Stuning even for the non-gamer: This sound tra...\n",
       "1      pos  The best soundtrack ever to anything.: I'm rea...\n",
       "3      pos  Excellent Soundtrack: I truly like this soundt...\n",
       "4      pos  Remember,Pull Your Jaw Off The Floor After Hea...\n",
       "5      pos  an absolute masterpiece: I am quite sure any o...\n",
       "...    ...                                                ...\n",
       "9994   neg  Sorry Jim: As a former realtor,Mr. Cole owes t...\n",
       "9996   pos  Great biography of a very interesting journali...\n",
       "9997   neg  Interesting Subject; Poor Presentation: You'd ...\n",
       "9998   neg  Don't buy: The box looked used and it is obvio...\n",
       "9999   pos  Beautiful Pen and Fast Delivery.: The pen was ...\n",
       "\n",
       "[7940 rows x 2 columns]"
      ]
     },
     "execution_count": 8,
     "metadata": {},
     "output_type": "execute_result"
    }
   ],
   "source": [
    "amzn_df.dropna(inplace=True)\n",
    "empty_objects = []\n",
    "for index, label, review in amzn_df.itertuples():\n",
    "    if type(review)==str:\n",
    "        if review.isspace():\n",
    "            empty_objects.append(i)\n",
    " \n",
    "    amzn_df.drop(empty_objects, inplace=True)\n",
    "amzn_df    "
   ]
  },
  {
   "cell_type": "markdown",
   "id": "70881a0c-8fd4-4e9e-bc6c-bc7e28381fb8",
   "metadata": {},
   "source": [
    "This little convenience function will drop any blank dataframe objects. The method ensures that the dataframe keeps the changes made by dropping any blank objects, and not cheekily throwing them away despite all our effort. Very much like a commit in Github."
   ]
  },
  {
   "cell_type": "code",
   "execution_count": 9,
   "id": "6aaf401d-3fb9-41c8-9bb4-97bd7e05e498",
   "metadata": {},
   "outputs": [],
   "source": [
    "inplace=True "
   ]
  },
  {
   "cell_type": "code",
   "execution_count": 10,
   "id": "99d2509c-21bc-4cd9-998f-fb998456b37d",
   "metadata": {},
   "outputs": [
    {
     "data": {
      "text/plain": [
       "neg    3985\n",
       "pos    3955\n",
       "Name: label, dtype: int64"
      ]
     },
     "execution_count": 10,
     "metadata": {},
     "output_type": "execute_result"
    }
   ],
   "source": [
    "amzn_df['label'].value_counts()"
   ]
  },
  {
   "cell_type": "markdown",
   "id": "c281cc79-d1fd-44bc-9bb7-a711f205a036",
   "metadata": {},
   "source": [
    "#### However, this particular dataset had no empty objects, but still, it doesn’t harm to be careful.\n",
    "\n",
    "Currently there’s a couple of problems:\n",
    "\n",
    "We can’t compare the extracted sentiment to the original sentiment as doing that for each sentiment is time consuming and quite frankly, completely caveman.\n",
    "The extracted sentiment is printed out, which, in my opinion is plain flimsy.\n",
    "Let’s fix it.\n",
    "\n",
    "Let’s add the sentiment to the dataframe alongside its original sentiment."
   ]
  },
  {
   "cell_type": "code",
   "execution_count": 11,
   "id": "5018bdf0-996f-4373-98f8-624535cbd0a3",
   "metadata": {},
   "outputs": [
    {
     "ename": "KeyError",
     "evalue": "'review'",
     "output_type": "error",
     "traceback": [
      "\u001b[1;31m---------------------------------------------------------------------------\u001b[0m",
      "\u001b[1;31mKeyError\u001b[0m                                  Traceback (most recent call last)",
      "\u001b[1;32m~\\anaconda3\\envs\\dev\\lib\\site-packages\\pandas\\core\\indexes\\base.py\u001b[0m in \u001b[0;36mget_loc\u001b[1;34m(self, key, method, tolerance)\u001b[0m\n\u001b[0;32m   3360\u001b[0m             \u001b[1;32mtry\u001b[0m\u001b[1;33m:\u001b[0m\u001b[1;33m\u001b[0m\u001b[1;33m\u001b[0m\u001b[0m\n\u001b[1;32m-> 3361\u001b[1;33m                 \u001b[1;32mreturn\u001b[0m \u001b[0mself\u001b[0m\u001b[1;33m.\u001b[0m\u001b[0m_engine\u001b[0m\u001b[1;33m.\u001b[0m\u001b[0mget_loc\u001b[0m\u001b[1;33m(\u001b[0m\u001b[0mcasted_key\u001b[0m\u001b[1;33m)\u001b[0m\u001b[1;33m\u001b[0m\u001b[1;33m\u001b[0m\u001b[0m\n\u001b[0m\u001b[0;32m   3362\u001b[0m             \u001b[1;32mexcept\u001b[0m \u001b[0mKeyError\u001b[0m \u001b[1;32mas\u001b[0m \u001b[0merr\u001b[0m\u001b[1;33m:\u001b[0m\u001b[1;33m\u001b[0m\u001b[1;33m\u001b[0m\u001b[0m\n",
      "\u001b[1;32m~\\anaconda3\\envs\\dev\\lib\\site-packages\\pandas\\_libs\\index.pyx\u001b[0m in \u001b[0;36mpandas._libs.index.IndexEngine.get_loc\u001b[1;34m()\u001b[0m\n",
      "\u001b[1;32m~\\anaconda3\\envs\\dev\\lib\\site-packages\\pandas\\_libs\\index.pyx\u001b[0m in \u001b[0;36mpandas._libs.index.IndexEngine.get_loc\u001b[1;34m()\u001b[0m\n",
      "\u001b[1;32mpandas\\_libs\\hashtable_class_helper.pxi\u001b[0m in \u001b[0;36mpandas._libs.hashtable.PyObjectHashTable.get_item\u001b[1;34m()\u001b[0m\n",
      "\u001b[1;32mpandas\\_libs\\hashtable_class_helper.pxi\u001b[0m in \u001b[0;36mpandas._libs.hashtable.PyObjectHashTable.get_item\u001b[1;34m()\u001b[0m\n",
      "\u001b[1;31mKeyError\u001b[0m: 'review'",
      "\nThe above exception was the direct cause of the following exception:\n",
      "\u001b[1;31mKeyError\u001b[0m                                  Traceback (most recent call last)",
      "\u001b[1;32m~\\AppData\\Local\\Temp/ipykernel_19556/1966385794.py\u001b[0m in \u001b[0;36m<module>\u001b[1;34m\u001b[0m\n\u001b[1;32m----> 1\u001b[1;33m \u001b[0mamzn_df\u001b[0m\u001b[1;33m[\u001b[0m\u001b[1;34m'scores'\u001b[0m\u001b[1;33m]\u001b[0m \u001b[1;33m=\u001b[0m \u001b[0mamzn_df\u001b[0m\u001b[1;33m[\u001b[0m\u001b[1;34m'review'\u001b[0m\u001b[1;33m]\u001b[0m\u001b[1;33m.\u001b[0m\u001b[0mapply\u001b[0m\u001b[1;33m(\u001b[0m\u001b[1;32mlambda\u001b[0m \u001b[0mreview\u001b[0m\u001b[1;33m:\u001b[0m \u001b[0mvader\u001b[0m\u001b[1;33m.\u001b[0m\u001b[0mpolarity_scores\u001b[0m\u001b[1;33m(\u001b[0m\u001b[0mreview\u001b[0m\u001b[1;33m)\u001b[0m\u001b[1;33m)\u001b[0m\u001b[1;33m\u001b[0m\u001b[1;33m\u001b[0m\u001b[0m\n\u001b[0m\u001b[0;32m      2\u001b[0m \u001b[0mamzn_df\u001b[0m\u001b[1;33m.\u001b[0m\u001b[0mhead\u001b[0m\u001b[1;33m(\u001b[0m\u001b[1;33m)\u001b[0m\u001b[1;33m\u001b[0m\u001b[1;33m\u001b[0m\u001b[0m\n",
      "\u001b[1;32m~\\anaconda3\\envs\\dev\\lib\\site-packages\\pandas\\core\\frame.py\u001b[0m in \u001b[0;36m__getitem__\u001b[1;34m(self, key)\u001b[0m\n\u001b[0;32m   3456\u001b[0m             \u001b[1;32mif\u001b[0m \u001b[0mself\u001b[0m\u001b[1;33m.\u001b[0m\u001b[0mcolumns\u001b[0m\u001b[1;33m.\u001b[0m\u001b[0mnlevels\u001b[0m \u001b[1;33m>\u001b[0m \u001b[1;36m1\u001b[0m\u001b[1;33m:\u001b[0m\u001b[1;33m\u001b[0m\u001b[1;33m\u001b[0m\u001b[0m\n\u001b[0;32m   3457\u001b[0m                 \u001b[1;32mreturn\u001b[0m \u001b[0mself\u001b[0m\u001b[1;33m.\u001b[0m\u001b[0m_getitem_multilevel\u001b[0m\u001b[1;33m(\u001b[0m\u001b[0mkey\u001b[0m\u001b[1;33m)\u001b[0m\u001b[1;33m\u001b[0m\u001b[1;33m\u001b[0m\u001b[0m\n\u001b[1;32m-> 3458\u001b[1;33m             \u001b[0mindexer\u001b[0m \u001b[1;33m=\u001b[0m \u001b[0mself\u001b[0m\u001b[1;33m.\u001b[0m\u001b[0mcolumns\u001b[0m\u001b[1;33m.\u001b[0m\u001b[0mget_loc\u001b[0m\u001b[1;33m(\u001b[0m\u001b[0mkey\u001b[0m\u001b[1;33m)\u001b[0m\u001b[1;33m\u001b[0m\u001b[1;33m\u001b[0m\u001b[0m\n\u001b[0m\u001b[0;32m   3459\u001b[0m             \u001b[1;32mif\u001b[0m \u001b[0mis_integer\u001b[0m\u001b[1;33m(\u001b[0m\u001b[0mindexer\u001b[0m\u001b[1;33m)\u001b[0m\u001b[1;33m:\u001b[0m\u001b[1;33m\u001b[0m\u001b[1;33m\u001b[0m\u001b[0m\n\u001b[0;32m   3460\u001b[0m                 \u001b[0mindexer\u001b[0m \u001b[1;33m=\u001b[0m \u001b[1;33m[\u001b[0m\u001b[0mindexer\u001b[0m\u001b[1;33m]\u001b[0m\u001b[1;33m\u001b[0m\u001b[1;33m\u001b[0m\u001b[0m\n",
      "\u001b[1;32m~\\anaconda3\\envs\\dev\\lib\\site-packages\\pandas\\core\\indexes\\base.py\u001b[0m in \u001b[0;36mget_loc\u001b[1;34m(self, key, method, tolerance)\u001b[0m\n\u001b[0;32m   3361\u001b[0m                 \u001b[1;32mreturn\u001b[0m \u001b[0mself\u001b[0m\u001b[1;33m.\u001b[0m\u001b[0m_engine\u001b[0m\u001b[1;33m.\u001b[0m\u001b[0mget_loc\u001b[0m\u001b[1;33m(\u001b[0m\u001b[0mcasted_key\u001b[0m\u001b[1;33m)\u001b[0m\u001b[1;33m\u001b[0m\u001b[1;33m\u001b[0m\u001b[0m\n\u001b[0;32m   3362\u001b[0m             \u001b[1;32mexcept\u001b[0m \u001b[0mKeyError\u001b[0m \u001b[1;32mas\u001b[0m \u001b[0merr\u001b[0m\u001b[1;33m:\u001b[0m\u001b[1;33m\u001b[0m\u001b[1;33m\u001b[0m\u001b[0m\n\u001b[1;32m-> 3363\u001b[1;33m                 \u001b[1;32mraise\u001b[0m \u001b[0mKeyError\u001b[0m\u001b[1;33m(\u001b[0m\u001b[0mkey\u001b[0m\u001b[1;33m)\u001b[0m \u001b[1;32mfrom\u001b[0m \u001b[0merr\u001b[0m\u001b[1;33m\u001b[0m\u001b[1;33m\u001b[0m\u001b[0m\n\u001b[0m\u001b[0;32m   3364\u001b[0m \u001b[1;33m\u001b[0m\u001b[0m\n\u001b[0;32m   3365\u001b[0m         \u001b[1;32mif\u001b[0m \u001b[0mis_scalar\u001b[0m\u001b[1;33m(\u001b[0m\u001b[0mkey\u001b[0m\u001b[1;33m)\u001b[0m \u001b[1;32mand\u001b[0m \u001b[0misna\u001b[0m\u001b[1;33m(\u001b[0m\u001b[0mkey\u001b[0m\u001b[1;33m)\u001b[0m \u001b[1;32mand\u001b[0m \u001b[1;32mnot\u001b[0m \u001b[0mself\u001b[0m\u001b[1;33m.\u001b[0m\u001b[0mhasnans\u001b[0m\u001b[1;33m:\u001b[0m\u001b[1;33m\u001b[0m\u001b[1;33m\u001b[0m\u001b[0m\n",
      "\u001b[1;31mKeyError\u001b[0m: 'review'"
     ]
    }
   ],
   "source": [
    "amzn_df['scores'] = amzn_df['review'].apply(lambda review: vader.polarity_scores(review))\n",
    "amzn_df.head()"
   ]
  },
  {
   "cell_type": "markdown",
   "id": "2ed0843a-2541-49a5-96ce-0454d7b6188e",
   "metadata": {},
   "source": [
    "But currently the scores column has just the raw sentiment which, we can’t really compare programmatically with the ‘label’ column which already has all the data, so let’s find a workaround.\n",
    "\n",
    "Let’s use the compound value."
   ]
  },
  {
   "cell_type": "code",
   "execution_count": null,
   "id": "4e98273c-8b20-40ab-922c-5cf76c6769e3",
   "metadata": {},
   "outputs": [],
   "source": [
    "amzn_df['compund'] = amzn_df['scores'].apply(lambda score_dict: score_dict[compound])\n",
    "amzn_df"
   ]
  },
  {
   "cell_type": "markdown",
   "id": "0e4f0dee-e1e6-468c-aa1b-059d6d72c44e",
   "metadata": {},
   "source": [
    "If the compound value is greater than 0, we can safely say that the review is positive, otherwise it’s negative. Great ! Let’s implement that now !"
   ]
  },
  {
   "cell_type": "markdown",
   "id": "17e7fe0f-6aa7-44e9-a050-760cd83fe63a",
   "metadata": {},
   "source": [
    "Well then let’s check our score now, shall we ?"
   ]
  },
  {
   "cell_type": "code",
   "execution_count": null,
   "id": "8e154bd1-5323-4715-9a5e-a745081143d2",
   "metadata": {},
   "outputs": [],
   "source": [
    "from sklearn.metrics import accuracy_score "
   ]
  },
  {
   "cell_type": "code",
   "execution_count": null,
   "id": "36ae8aab-66c6-4eb0-84c6-8dc49776f9a4",
   "metadata": {},
   "outputs": [],
   "source": [
    "accuracy_score(amzn_df(['label'], amzn_df['sentiment'])"
   ]
  },
  {
   "cell_type": "markdown",
   "id": "1f9fa2bc-7c36-4b9b-bd13-22d6e0dc6800",
   "metadata": {},
   "source": [
    "There’s definitely room for improvement. But, do keep in mind that we got this score without making any changes to VADER and that we didn’t write any custom code to figure out the sentiment ourselves.\n",
    "\n",
    "Alright then, if you have any queries feel free to post them in the comments and I’ll try to help out ! Peace."
   ]
  },
  {
   "cell_type": "code",
   "execution_count": null,
   "id": "0d20d2b0-511c-4852-a691-4ca993118628",
   "metadata": {},
   "outputs": [],
   "source": []
  }
 ],
 "metadata": {
  "kernelspec": {
   "display_name": "dev",
   "language": "python",
   "name": "dev"
  },
  "language_info": {
   "codemirror_mode": {
    "name": "ipython",
    "version": 3
   },
   "file_extension": ".py",
   "mimetype": "text/x-python",
   "name": "python",
   "nbconvert_exporter": "python",
   "pygments_lexer": "ipython3",
   "version": "3.9.7"
  }
 },
 "nbformat": 4,
 "nbformat_minor": 5
}
