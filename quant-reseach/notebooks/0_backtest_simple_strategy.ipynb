{
 "cells": [
  {
   "cell_type": "code",
   "execution_count": null,
   "id": "d36df7a7-29c7-4443-8199-af62bdf41f1a",
   "metadata": {},
   "outputs": [],
   "source": []
  },
  {
   "cell_type": "code",
   "execution_count": null,
   "id": "6ee770fe-fad7-401f-bb46-bb61134a4d73",
   "metadata": {},
   "outputs": [],
   "source": []
  },
  {
   "cell_type": "code",
   "execution_count": null,
   "id": "ae6e0196-0d44-4583-a5e9-34996c44aed8",
   "metadata": {},
   "outputs": [],
   "source": [
    "import sys\n",
    "sys.path.insert(0, \"../src\")\n",
    "import example_helper as eh\n",
    "import analysis_helper as ah\n",
    "import msgpack\n",
    "import zlib\n",
    "import numpy as np\n",
    "import datetime\n",
    "import time\n",
    "import matplotlib.pyplot as plt\n",
    "import matplotlib.dates as md\n",
    "from matplotlib.pyplot import figure\n",
    "import pandas as pd\n",
    "import seaborn as sns; sns.set()"
   ]
  },
  {
   "cell_type": "markdown",
   "id": "0e516410-4d58-432f-8e4f-ea6b5952bd68",
   "metadata": {},
   "source": [
    "## Get Data"
   ]
  },
  {
   "cell_type": "code",
   "execution_count": 1,
   "id": "4dd8a822-c553-4f60-a476-535fb3c83c7c",
   "metadata": {},
   "outputs": [
    {
     "ename": "NameError",
     "evalue": "name 'eh' is not defined",
     "output_type": "error",
     "traceback": [
      "\u001b[1;31m---------------------------------------------------------------------------\u001b[0m",
      "\u001b[1;31mNameError\u001b[0m                                 Traceback (most recent call last)",
      "\u001b[1;32m~\\AppData\\Local\\Temp/ipykernel_11180/3931132384.py\u001b[0m in \u001b[0;36m<module>\u001b[1;34m\u001b[0m\n\u001b[0;32m      5\u001b[0m \u001b[1;33m\u001b[0m\u001b[0m\n\u001b[0;32m      6\u001b[0m \u001b[1;31m# load the example data\u001b[0m\u001b[1;33m\u001b[0m\u001b[1;33m\u001b[0m\u001b[0m\n\u001b[1;32m----> 7\u001b[1;33m all_data = eh.load_example_data(filename_augmento_topics,\n\u001b[0m\u001b[0;32m      8\u001b[0m                              \u001b[0mfilename_augmento_data\u001b[0m\u001b[1;33m,\u001b[0m\u001b[1;33m\u001b[0m\u001b[1;33m\u001b[0m\u001b[0m\n\u001b[0;32m      9\u001b[0m                              filename_bitmex_data)\n",
      "\u001b[1;31mNameError\u001b[0m: name 'eh' is not defined"
     ]
    }
   ],
   "source": [
    "# define the location of the input file\n",
    "filename_augmento_topics = \"../data/example_data/augmento_topics.msgpack.zlib\"\n",
    "filename_augmento_data = \"../data/example_data/augmento_data.msgpack.zlib\"\n",
    "filename_bitmex_data = \"../data/example_data/bitmex_data.msgpack.zlib\"\n",
    "\n",
    "# load the example data\n",
    "all_data = eh.load_example_data(filename_augmento_topics,\n",
    "                             filename_augmento_data,\n",
    "                             filename_bitmex_data)\n",
    "aug_topics, aug_topics_inv, t_aug_data, aug_data, t_price_data, price_data = all_data\n",
    "all_topics = aug_data.T.astype(float)"
   ]
  },
  {
   "cell_type": "markdown",
   "id": "12034b69-efae-4525-9a34-d42f9d408d4c",
   "metadata": {},
   "source": [
    "## Example for Topics \"Bullish\" and \"Bearish\""
   ]
  },
  {
   "cell_type": "code",
   "execution_count": null,
   "id": "ecc20b93-409c-4be8-ba6e-bc7342fd08d2",
   "metadata": {},
   "outputs": [],
   "source": [
    "# Pick Topics\n",
    "aug_signal_a = aug_data[:, aug_topics_inv[\"Bullish\"]].astype(np.float64)\n",
    "aug_signal_b = aug_data[:, aug_topics_inv[\"Bearish\"]].astype(np.float64)"
   ]
  },
  {
   "cell_type": "code",
   "execution_count": null,
   "id": "1c710e24-b4ba-4ee9-8d40-7af26d722dad",
   "metadata": {},
   "outputs": [],
   "source": [
    "# define the window size for the sentiment score calculation\n",
    "n_days = 7\n",
    "window_size = 24 * n_days\n",
    "\n",
    "# generate the sentiment score\n",
    "sent_score = ah.nb_calc_sentiment_score_a(aug_signal_a, aug_signal_b, window_size, window_size)\n",
    "\n",
    "# define some parameters for the backtest\n",
    "start_pnl = 1.0\n",
    "buy_sell_fee = 0.0\n",
    "\n",
    "# run the backtest\n",
    "pnl = ah.nb_backtest_a(price_data, sent_score, start_pnl, buy_sell_fee)"
   ]
  },
  {
   "cell_type": "markdown",
   "id": "56592ef9-14c9-4bb4-bbf2-a8761bc8cafb",
   "metadata": {},
   "source": [
    "## Plot "
   ]
  },
  {
   "cell_type": "code",
   "execution_count": null,
   "id": "cdb12835-215c-42db-a93f-f662d298bbc6",
   "metadata": {},
   "outputs": [],
   "source": [
    "# set up the figure\n",
    "fig, ax = plt.subplots(3, 1, sharex=True, sharey=False, figsize=(20,20))\n",
    "\n",
    "# initialise some labels for the plot\n",
    "datenum_aug_data = [md.date2num(datetime.datetime.fromtimestamp(el)) for el in t_aug_data]\n",
    "datenum_price_data = [md.date2num(datetime.datetime.fromtimestamp(el)) for el in t_price_data]\n",
    "\n",
    "# plot stuff\n",
    "ax[0].grid(linewidth=0.4)\n",
    "ax[1].grid(linewidth=0.4)\n",
    "ax[2].grid(linewidth=0.4)\n",
    "ax[0].plot(datenum_price_data, price_data, linewidth=0.5)\n",
    "ax[1].plot(datenum_aug_data, sent_score, linewidth=0.5)\n",
    "ax[2].plot(datenum_price_data, pnl, linewidth=0.5)\n",
    "\n",
    "# label axes\n",
    "ax[0].set_ylabel(\"Price\")\n",
    "ax[1].set_ylabel(\"Seniment score\")\n",
    "ax[2].set_ylabel(\"PnL\")\n",
    "ax[1].set_ylim([-5.5, 5.5])\n",
    "\n",
    "ax[0].set_title(\"4_basic_strategy_example.py\")\n",
    "\n",
    "# generate the time axes\n",
    "plt.subplots_adjust(bottom=0.2)\n",
    "plt.xticks( rotation=25 )\n",
    "ax[0]=plt.gca()\n",
    "xfmt = md.DateFormatter('%Y-%m-%d')\n",
    "ax[0].xaxis.set_major_formatter(xfmt)\n",
    "\n",
    "# show the plot\n",
    "plt.show()"
   ]
  },
  {
   "cell_type": "code",
   "execution_count": null,
   "id": "03b53e13-af4e-4912-af03-3da52edbc71c",
   "metadata": {},
   "outputs": [],
   "source": []
  },
  {
   "cell_type": "code",
   "execution_count": null,
   "id": "d6510374-b7e9-4fc6-b146-6e8507622cfd",
   "metadata": {},
   "outputs": [],
   "source": []
  },
  {
   "cell_type": "code",
   "execution_count": null,
   "id": "269456e0-d3de-4046-a67a-ed64abe3eae2",
   "metadata": {},
   "outputs": [],
   "source": []
  },
  {
   "cell_type": "code",
   "execution_count": null,
   "id": "279dd3f6-9e15-4f5d-8559-417eafe11fb1",
   "metadata": {},
   "outputs": [],
   "source": []
  }
 ],
 "metadata": {
  "kernelspec": {
   "display_name": "dev",
   "language": "python",
   "name": "dev"
  },
  "language_info": {
   "codemirror_mode": {
    "name": "ipython",
    "version": 3
   },
   "file_extension": ".py",
   "mimetype": "text/x-python",
   "name": "python",
   "nbconvert_exporter": "python",
   "pygments_lexer": "ipython3",
   "version": "3.9.7"
  }
 },
 "nbformat": 4,
 "nbformat_minor": 5
}
