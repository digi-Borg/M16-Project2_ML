{
 "cells": [
  {
   "cell_type": "code",
   "execution_count": null,
   "id": "0dc26981-08c3-4a97-be3e-64e4204014f2",
   "metadata": {},
   "outputs": [],
   "source": []
  },
  {
   "cell_type": "code",
   "execution_count": null,
   "id": "cefaa2dd-2953-441d-a204-7a34d65857f9",
   "metadata": {},
   "outputs": [],
   "source": [
    "import sys\n",
    "sys.path.insert(0, \"../src\")\n",
    "import example_helper as eh\n",
    "import analysis_helper as ah\n",
    "import msgpack\n",
    "import zlib\n",
    "import numpy as np\n",
    "import datetime\n",
    "import time\n",
    "import matplotlib.pyplot as plt\n",
    "import matplotlib.dates as md\n",
    "from matplotlib.pyplot import figure\n",
    "import pandas as pd\n",
    "import seaborn as sns; sns.set()"
   ]
  },
  {
   "cell_type": "markdown",
   "id": "3cbd6683-fb91-4941-b2d3-2a881df4a9cf",
   "metadata": {},
   "source": [
    "### Get Data"
   ]
  },
  {
   "cell_type": "code",
   "execution_count": null,
   "id": "bf24930c-7440-4b7b-ba6d-c590888d7f33",
   "metadata": {},
   "outputs": [],
   "source": [
    "# define the location of the input file\n",
    "filename_augmento_topics = \"../data/example_data/augmento_topics.msgpack.zlib\"\n",
    "filename_augmento_data = \"../data/example_data/augmento_data.msgpack.zlib\"\n",
    "filename_bitmex_data = \"../data/example_data/bitmex_data.msgpack.zlib\"\n",
    "\n",
    "# load the example data\n",
    "all_data = eh.load_example_data(filename_augmento_topics,\n",
    "                             filename_augmento_data,\n",
    "                             filename_bitmex_data)\n",
    "aug_topics, aug_topics_inv, t_aug_data, aug_data, t_price_data, price_data = all_data\n",
    "all_topics = aug_data.T.astype(float)"
   ]
  },
  {
   "cell_type": "markdown",
   "id": "26a44ba7-506f-49ea-bbcd-c0fb150011f4",
   "metadata": {},
   "source": [
    "### Example for Topics \"Bullish\" and \"Bearish\""
   ]
  },
  {
   "cell_type": "code",
   "execution_count": null,
   "id": "1c52a311-f4fb-48f6-9f1b-b088d953b9db",
   "metadata": {},
   "outputs": [],
   "source": [
    "aug_signal_a = aug_data[:, aug_topics_inv[\"Bullish\"]].astype(np.float64)\n",
    "aug_signal_b = aug_data[:, aug_topics_inv[\"Bearish\"]].astype(np.float64)"
   ]
  },
  {
   "cell_type": "code",
   "execution_count": null,
   "id": "37931152-b0e5-4ea0-bd16-86468f2d41f6",
   "metadata": {},
   "outputs": [],
   "source": [
    "# define the window size for the sentiment score calculation\n",
    "n_days = 7\n",
    "window_size = 24 * n_days\n",
    "\n",
    "# generate the sentiment score\n",
    "sent_score = ah.nb_calc_sentiment_score_a(aug_signal_a, aug_signal_b, window_size, window_size)\n",
    "\n",
    "# define some parameters for the backtest\n",
    "start_pnl = 1.0\n",
    "buy_sell_fee = 0.0075\n",
    "\n",
    "# run the backtest\n",
    "pnl = ah.nb_backtest_a(price_data, sent_score, start_pnl, buy_sell_fee)"
   ]
  },
  {
   "cell_type": "markdown",
   "id": "331376e1-7b3b-42d3-aadf-98dd1771b163",
   "metadata": {},
   "source": [
    "### Compare various windows sizes"
   ]
  },
  {
   "cell_type": "code",
   "execution_count": null,
   "id": "81c16448-ab92-4acf-8ec6-f7b13ac1d0af",
   "metadata": {},
   "outputs": [],
   "source": [
    "sent_score = ah.nb_calc_sentiment_score_a(aug_signal_a,aug_signal_b,1,2)\n",
    "pnl = ah.nb_backtest_a(price_data, sent_score, 1.0, 0.0075)\n",
    "sent_score = ah.nb_calc_sentiment_score_a(aug_signal_a,aug_signal_b,7*24,7*24)\n",
    "pnl = ah.nb_backtest_a(price_data, sent_score, 1.0, 0.0075)\n",
    "# different windows sizes for sentiment score b\n",
    "#h = 24\n",
    "s_days = 20 # short\n",
    "l_days = 20 # long\n",
    "\n",
    "win_all_a = np.zeros(shape=(s_days,l_days))\n",
    "win_all_b = np.zeros(shape=(s_days,l_days))\n",
    "\n",
    "# matrix of size (s_days,l_days)\n",
    "\n",
    "for i in range(0, s_days):\n",
    "    for j in range(0, l_days):\n",
    "        sent_score_a = ah.nb_calc_sentiment_score_a(aug_signal_a,aug_signal_b,(i+1)*24,(j+1)*24)\n",
    "        sent_score_b = ah.nb_calc_sentiment_score_b(aug_signal_a, aug_signal_b, (i+1)*24,(j+1)*24)\n",
    "        #pnl_a = ah.nb_backtest_a(price_data, sent_score_a, 1.0, 0.0075)\n",
    "        #pnl_b = ah.nb_backtest_a(price_data, sent_score_b, 1.0, 0.0075)\n",
    "        win_all_a[i,j] = ah.nb_backtest_a(price_data, sent_score_a, 1.0, 0.0075)[-1]\n",
    "        win_all_b[i,j] = ah.nb_backtest_a(price_data, sent_score_b, 1.0, 0.0075)[-1]"
   ]
  },
  {
   "cell_type": "code",
   "execution_count": null,
   "id": "de87d01c-cbe3-4d5d-b25a-1a31fcd63c54",
   "metadata": {},
   "outputs": [],
   "source": [
    "##plot\n",
    "#cmap = sns.cubehelix_palette(50, hue=0.05, rot=0, light=0.0, dark=1.2, as_cmap=True)\n",
    "#figure(num=None, figsize=(10, 7), dpi=80, facecolor='w', edgecolor='k')\n",
    "#ax = sns.heatmap(win_all_a, linewidth=0.01, cmap=cmap)\n",
    "#plt.show()"
   ]
  },
  {
   "cell_type": "code",
   "execution_count": null,
   "id": "63ac806c-7b7a-41dc-a43b-ceec4e14d094",
   "metadata": {},
   "outputs": [],
   "source": [
    "##plot\n",
    "#cmap = sns.cubehelix_palette(50, hue=0.05, rot=0, light=0.0, dark=1.2, as_cmap=True)\n",
    "#figure(num=None, figsize=(10, 7), dpi=80, facecolor='w', edgecolor='k')\n",
    "#ax = sns.heatmap(win_all_b, linewidth=0.01, cmap=cmap)\n",
    "#plt.show()"
   ]
  },
  {
   "cell_type": "code",
   "execution_count": null,
   "id": "7c65bc90-dde6-4a1b-b41f-1e1d0d2faa84",
   "metadata": {},
   "outputs": [],
   "source": [
    "# different windows sizes for sentiment score b\n",
    "#h = 24\n",
    "s_days = 20 # short\n",
    "l_days = 20 # long\n",
    "\n",
    "win_all_a = np.zeros(shape=(s_days,l_days))\n",
    "\n",
    "# matrix of size (s_days,l_days)\n",
    "\n",
    "for i in range(0, s_days):\n",
    "    for j in range(0, l_days):\n",
    "        sent_score_a = ah.nb_calc_sentiment_score_a(aug_signal_a,aug_signal_b,(i+1)*24,(j+1)*24)\n",
    "        #pnl_a = ah.nb_backtest_a(price_data, sent_score_a, 1.0, 0.0075)\n",
    "        #pnl_b = ah.nb_backtest_a(price_data, sent_score_b, 1.0, 0.0075)\n",
    "        win_all_a[i,j] = ah.nb_backtest_a(price_data, sent_score_a, 1.0, 0.0075)[-1]"
   ]
  },
  {
   "cell_type": "code",
   "execution_count": null,
   "id": "8db73774-7c2e-4dbe-896e-4013ce2b06e2",
   "metadata": {},
   "outputs": [],
   "source": [
    "# different windows sizes for sentiment score b\n",
    "#h = 24\n",
    "s_days = 20 # short\n",
    "l_days = 20 # long\n",
    "\n",
    "f, axes = plt.subplots(1, 5, figsize=(40,10))\n",
    "win_all_a = np.zeros(shape=(s_days,l_days))\n",
    "# matrix of size (s_days,l_days)\n",
    "for std in range(0,5):\n",
    "    for i in range(0, s_days):\n",
    "        for j in range(0, l_days):\n",
    "            sent_score_a = ah.nb_calc_sentiment_score_a(aug_signal_a,aug_signal_b,(i+1)*24+np.random.normal(0,std),(j+1)*24+np.random.normal(0,std))\n",
    "            win_all_a[i,j] = ah.nb_backtest_a(price_data, sent_score_a, 1.0, 0.0075)[-1]\n",
    "    cmap = sns.cubehelix_palette(50, hue=0.05, rot=0, light=0.0, dark=1.2, as_cmap=True)\n",
    "    figure(num=None, figsize=(10, 7), dpi=80, facecolor='w', edgecolor='k')\n",
    "    ax = sns.heatmap(win_all_a, linewidth=0.01, cmap=cmap,ax=axes[std])\n",
    "plt.show()"
   ]
  },
  {
   "cell_type": "code",
   "execution_count": null,
   "id": "f1f33aa0-9153-4fc6-b2e1-98a564a7de11",
   "metadata": {},
   "outputs": [],
   "source": [
    "# different windows sizes for sentiment score b\n",
    "#h = 24\n",
    "s_days = 20 # short\n",
    "l_days = 20 # long\n",
    "\n",
    "f, axes = plt.subplots(1, 5, figsize=(40,10))\n",
    "win_all_a = np.zeros(shape=(s_days,l_days))\n",
    "# matrix of size (s_days,l_days)\n",
    "for std in range(0,5):\n",
    "    for i in range(0, s_days):\n",
    "        for j in range(0, l_days):\n",
    "            sent_score_a = ah.nb_calc_sentiment_score_a(aug_signal_a,aug_signal_b,(i+1)*24+np.random.uniform(0,std),(j+1)*24+np.random.uniform(0,std))\n",
    "            win_all_a[i,j] = ah.nb_backtest_a(price_data, sent_score_a, 1.0, 0.0075)[-1]\n",
    "    cmap = sns.cubehelix_palette(50, hue=0.05, rot=0, light=0.0, dark=1.2, as_cmap=True)\n",
    "    figure(num=None, figsize=(10, 7), dpi=80, facecolor='w', edgecolor='k')\n",
    "    ax = sns.heatmap(win_all_a, linewidth=0.01, cmap=cmap,ax=axes[std])\n",
    "plt.show()"
   ]
  },
  {
   "cell_type": "code",
   "execution_count": null,
   "id": "9cff867c-2b22-4bbb-b641-a975d17d5d06",
   "metadata": {},
   "outputs": [],
   "source": [
    "cmap = sns.cubehelix_palette(50, hue=0.05, rot=0, light=0.0, dark=1.2, as_cmap=True)\n",
    "figure(num=None, figsize=(10, 7), dpi=80, facecolor='w', edgecolor='k')\n",
    "ax = sns.heatmap(win_all_a, linewidth=0.01, cmap=cmap)\n",
    "plt.show()"
   ]
  },
  {
   "cell_type": "code",
   "execution_count": null,
   "id": "680c5bd7-2814-4f07-af17-7fef3fcab852",
   "metadata": {},
   "outputs": [],
   "source": [
    "# different windows sizes for sentiment score b\n",
    "#h = 24\n",
    "s_days = 20 # short\n",
    "l_days = 20 # long\n",
    "\n",
    "win_all_b = np.zeros(shape=(s_days,l_days))\n",
    "\n",
    "# matrix of size (s_days,l_days)\n",
    "\n",
    "for i in range(0, s_days):\n",
    "    for j in range(0, l_days):\n",
    "        sent_score_a = ah.nb_calc_sentiment_score_a(aug_signal_a,aug_signal_b,(i+1)*24+np.random.normal(0,1),(j+1)*24+np.random.normal(0,1))\n",
    "        win_all_b[i,j] = ah.nb_backtest_a(price_data, sent_score_a, 1.0, 0.0075)[-1]"
   ]
  },
  {
   "cell_type": "code",
   "execution_count": 1,
   "id": "d6c5417b-d073-4334-a8d2-9bf1cffc3338",
   "metadata": {},
   "outputs": [
    {
     "ename": "NameError",
     "evalue": "name 'sns' is not defined",
     "output_type": "error",
     "traceback": [
      "\u001b[1;31m---------------------------------------------------------------------------\u001b[0m",
      "\u001b[1;31mNameError\u001b[0m                                 Traceback (most recent call last)",
      "\u001b[1;32m~\\AppData\\Local\\Temp/ipykernel_22012/3702882897.py\u001b[0m in \u001b[0;36m<module>\u001b[1;34m\u001b[0m\n\u001b[1;32m----> 1\u001b[1;33m \u001b[0mcmap\u001b[0m \u001b[1;33m=\u001b[0m \u001b[0msns\u001b[0m\u001b[1;33m.\u001b[0m\u001b[0mcubehelix_palette\u001b[0m\u001b[1;33m(\u001b[0m\u001b[1;36m50\u001b[0m\u001b[1;33m,\u001b[0m \u001b[0mhue\u001b[0m\u001b[1;33m=\u001b[0m\u001b[1;36m0.05\u001b[0m\u001b[1;33m,\u001b[0m \u001b[0mrot\u001b[0m\u001b[1;33m=\u001b[0m\u001b[1;36m0\u001b[0m\u001b[1;33m,\u001b[0m \u001b[0mlight\u001b[0m\u001b[1;33m=\u001b[0m\u001b[1;36m0.0\u001b[0m\u001b[1;33m,\u001b[0m \u001b[0mdark\u001b[0m\u001b[1;33m=\u001b[0m\u001b[1;36m1.2\u001b[0m\u001b[1;33m,\u001b[0m \u001b[0mas_cmap\u001b[0m\u001b[1;33m=\u001b[0m\u001b[1;32mTrue\u001b[0m\u001b[1;33m)\u001b[0m\u001b[1;33m\u001b[0m\u001b[1;33m\u001b[0m\u001b[0m\n\u001b[0m\u001b[0;32m      2\u001b[0m \u001b[0mfigure\u001b[0m\u001b[1;33m(\u001b[0m\u001b[0mnum\u001b[0m\u001b[1;33m=\u001b[0m\u001b[1;32mNone\u001b[0m\u001b[1;33m,\u001b[0m \u001b[0mfigsize\u001b[0m\u001b[1;33m=\u001b[0m\u001b[1;33m(\u001b[0m\u001b[1;36m10\u001b[0m\u001b[1;33m,\u001b[0m \u001b[1;36m7\u001b[0m\u001b[1;33m)\u001b[0m\u001b[1;33m,\u001b[0m \u001b[0mdpi\u001b[0m\u001b[1;33m=\u001b[0m\u001b[1;36m80\u001b[0m\u001b[1;33m,\u001b[0m \u001b[0mfacecolor\u001b[0m\u001b[1;33m=\u001b[0m\u001b[1;34m'w'\u001b[0m\u001b[1;33m,\u001b[0m \u001b[0medgecolor\u001b[0m\u001b[1;33m=\u001b[0m\u001b[1;34m'k'\u001b[0m\u001b[1;33m)\u001b[0m\u001b[1;33m\u001b[0m\u001b[1;33m\u001b[0m\u001b[0m\n\u001b[0;32m      3\u001b[0m \u001b[0max\u001b[0m \u001b[1;33m=\u001b[0m \u001b[0msns\u001b[0m\u001b[1;33m.\u001b[0m\u001b[0mheatmap\u001b[0m\u001b[1;33m(\u001b[0m\u001b[0mwin_all_b\u001b[0m\u001b[1;33m,\u001b[0m \u001b[0mlinewidth\u001b[0m\u001b[1;33m=\u001b[0m\u001b[1;36m0.01\u001b[0m\u001b[1;33m,\u001b[0m \u001b[0mcmap\u001b[0m\u001b[1;33m=\u001b[0m\u001b[0mcmap\u001b[0m\u001b[1;33m)\u001b[0m\u001b[1;33m\u001b[0m\u001b[1;33m\u001b[0m\u001b[0m\n\u001b[0;32m      4\u001b[0m \u001b[0mplt\u001b[0m\u001b[1;33m.\u001b[0m\u001b[0mshow\u001b[0m\u001b[1;33m(\u001b[0m\u001b[1;33m)\u001b[0m\u001b[1;33m\u001b[0m\u001b[1;33m\u001b[0m\u001b[0m\n",
      "\u001b[1;31mNameError\u001b[0m: name 'sns' is not defined"
     ]
    }
   ],
   "source": [
    "cmap = sns.cubehelix_palette(50, hue=0.05, rot=0, light=0.0, dark=1.2, as_cmap=True)\n",
    "figure(num=None, figsize=(10, 7), dpi=80, facecolor='w', edgecolor='k')\n",
    "ax = sns.heatmap(win_all_b, linewidth=0.01, cmap=cmap)\n",
    "plt.show()"
   ]
  },
  {
   "cell_type": "code",
   "execution_count": null,
   "id": "68510662-4ae5-423d-a4e1-6c63250e5ce2",
   "metadata": {},
   "outputs": [],
   "source": []
  },
  {
   "cell_type": "code",
   "execution_count": null,
   "id": "842050ce-3b2b-42be-84ed-0bb71cdbc6fd",
   "metadata": {},
   "outputs": [],
   "source": []
  },
  {
   "cell_type": "code",
   "execution_count": null,
   "id": "b8e9bb40-1330-4488-b34b-c1157da53a10",
   "metadata": {},
   "outputs": [],
   "source": []
  }
 ],
 "metadata": {
  "kernelspec": {
   "display_name": "dev",
   "language": "python",
   "name": "dev"
  },
  "language_info": {
   "codemirror_mode": {
    "name": "ipython",
    "version": 3
   },
   "file_extension": ".py",
   "mimetype": "text/x-python",
   "name": "python",
   "nbconvert_exporter": "python",
   "pygments_lexer": "ipython3",
   "version": "3.9.7"
  }
 },
 "nbformat": 4,
 "nbformat_minor": 5
}
