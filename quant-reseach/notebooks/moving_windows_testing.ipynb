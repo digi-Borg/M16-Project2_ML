{
 "cells": [
  {
   "cell_type": "markdown",
   "id": "7a7299f0-c036-47f6-a7f8-378e59e91082",
   "metadata": {},
   "source": [
    "## Moving windows"
   ]
  },
  {
   "cell_type": "code",
   "execution_count": null,
   "id": "f02d65e1-d516-417f-9980-c072e9d9d808",
   "metadata": {},
   "outputs": [],
   "source": [
    "import sys\n",
    "sys.path.insert(0, \"../src\")\n",
    "import example_helper as eh\n",
    "import analysis_helper as ah\n",
    "import msgpack\n",
    "import zlib\n",
    "import numpy as np\n",
    "import datetime\n",
    "import time\n",
    "import matplotlib.pyplot as plt\n",
    "import matplotlib.dates as md\n",
    "from matplotlib.pyplot import figure\n",
    "import pandas as pd\n",
    "import seaborn as sns; sns.set()"
   ]
  },
  {
   "cell_type": "markdown",
   "id": "18145fdd-b80a-4efc-9417-3d60595545d2",
   "metadata": {},
   "source": [
    "## Get Data"
   ]
  },
  {
   "cell_type": "code",
   "execution_count": null,
   "id": "496e02b2-16be-4645-acd9-2112eeaf348b",
   "metadata": {},
   "outputs": [],
   "source": [
    "# define the location of the input file\n",
    "filename_augmento_topics = \"../data/example_data/augmento_topics.msgpack.zlib\"\n",
    "filename_augmento_data = \"../data/example_data/augmento_data.msgpack.zlib\"\n",
    "filename_bitmex_data = \"../data/example_data/bitmex_data.msgpack.zlib\"\n",
    "\n",
    "# load the example data\n",
    "all_data = eh.load_example_data(filename_augmento_topics,\n",
    "                             filename_augmento_data,\n",
    "                             filename_bitmex_data)\n",
    "aug_topics, aug_topics_inv, t_aug_data, aug_data, t_price_data, price_data = all_data\n",
    "all_topics = aug_data.T.astype(float)\n",
    "\n",
    "# calculate PNL for a given strategy\n",
    "# if sentiment positive go long, else go short\n",
    "# fees are assumed to be 0.75% (taker fee from BITMEX)\n",
    "\n",
    "def strategy(price_data, signal_a, signal_b, window_1 = 24 * 7, window_2 = 24*7,buy_sell_fee = 0.0075, pnl_0 = 1.0):    \n",
    "    sent_score = ah.nb_calc_sentiment_score_b(signal_a,signal_b,window_1,window_2)\n",
    "    pnl = ah.nb_backtest_a(price_data, sent_score, 1.0, buy_sell_fee)\n",
    "    return pnl\n",
    "\n",
    "# PNL of various moving window size for a given combination of topics"
   ]
  },
  {
   "cell_type": "markdown",
   "id": "dda12ce9-46b5-4ec1-8c32-50e5911d1217",
   "metadata": {},
   "source": [
    "## Test strategies with adding noise to moving windows"
   ]
  },
  {
   "cell_type": "code",
   "execution_count": null,
   "id": "63b0d9e9-6570-4c7d-aa90-f5406134b91b",
   "metadata": {},
   "outputs": [],
   "source": [
    "sensit = 0.01\n",
    "aug_signal_a = aug_data[:, aug_topics_inv[\"Positive\"]].astype(np.float64)\n",
    "aug_signal_b = aug_data[:, aug_topics_inv[\"Bearish\"]].astype(np.float64)\n",
    "\n",
    "short_win = 26*24\n",
    "long_win = 7*24\n",
    "\n",
    "sent_score = ah.nb_calc_sentiment_score_rand_a(aug_signal_a, aug_signal_b, short_win, long_win,sensit)\n",
    "a = ah.nb_backtest_a(price_data, sent_score, start_pnl = 1, buy_sell_fee = 0.0075)\n",
    "\n",
    "for i in range(1,10):\n",
    "    short_win_ran = np.int64(np.round(np.random.normal(short_win, np.float64(short_win) * 0.01)))\n",
    "    long_win_ran = np.int64(np.round(np.random.normal(long_win, np.float64(long_win) * 0.01)))\n",
    "    #short_win_ran, long_win_ran = short_win, long_win\n",
    "    sent_score = ah.nb_calc_sentiment_score_rand_a(aug_signal_a, aug_signal_b, short_win_ran, long_win_ran,sensit)\n",
    "    cum_ret = ah.nb_backtest_a(price_data, sent_score, start_pnl = 1, buy_sell_fee = 0.0075)\n",
    "    a = np.vstack((a, cum_ret))\n",
    "    #print(cum_ret)\n",
    "\n",
    "figure(num=None, figsize=(18, 10))\n",
    "plt.plot(a.T)\n",
    "plt.show()  "
   ]
  },
  {
   "cell_type": "code",
   "execution_count": null,
   "id": "3bf39615-8725-4c55-9446-dc75757e66e2",
   "metadata": {},
   "outputs": [],
   "source": [
    "sensit = 0.001\n",
    "aug_signal_a = aug_data[:, aug_topics_inv[\"Positive\"]].astype(np.float64)\n",
    "aug_signal_b = aug_data[:, aug_topics_inv[\"Bearish\"]].astype(np.float64)\n",
    "sent_score = ah.nb_calc_sentiment_score_rand_a(aug_signal_a, aug_signal_b, 27*24, 17*24,sensit)\n",
    "a = ah.nb_backtest_a(price_data, sent_score, start_pnl = 1, buy_sell_fee = 0.0075)\n",
    "\n",
    "for i in range(1,100):\n",
    "    sent_score = ah.nb_calc_sentiment_score_rand_a(aug_signal_a, aug_signal_b, 27*24, 17*24, sensit)\n",
    "    cum_ret = ah.nb_backtest_a(price_data, sent_score, start_pnl = 1, buy_sell_fee = 0.0075)\n",
    "    a = np.vstack((a, cum_ret))\n",
    "    #print(cum_ret)\n",
    "\n",
    "figure(num=None, figsize=(18, 10))\n",
    "plt.plot(a.T)\n",
    "plt.show()  "
   ]
  },
  {
   "cell_type": "code",
   "execution_count": null,
   "id": "9f731fe7-3fdc-43b1-bdbd-29006e42cace",
   "metadata": {},
   "outputs": [],
   "source": [
    "sensit = 0.001\n",
    "aug_signal_a = aug_data[:, aug_topics_inv[\"Positive\"]].astype(np.float64)\n",
    "aug_signal_b = aug_data[:, aug_topics_inv[\"Bearish\"]].astype(np.float64)\n",
    "sent_score = ah.nb_calc_sentiment_score_rand_a(aug_signal_a, aug_signal_b, 28*24, 14*24,sensit)\n",
    "a = ah.nb_backtest_a(price_data, sent_score, start_pnl = 1, buy_sell_fee = 0.0075)\n",
    "\n",
    "for i in range(1,100):\n",
    "    sent_score = ah.nb_calc_sentiment_score_rand_a(aug_signal_a, aug_signal_b, 28*24, 14*24, sensit)\n",
    "    cum_ret = ah.nb_backtest_a(price_data, sent_score, start_pnl = 1, buy_sell_fee = 0.0075)\n",
    "    a = np.vstack((a, cum_ret))\n",
    "    #print(cum_ret)\n",
    "\n",
    "figure(num=None, figsize=(18, 10))\n",
    "plt.plot(a.T)\n",
    "plt.show()  "
   ]
  },
  {
   "cell_type": "code",
   "execution_count": null,
   "id": "46bfe0e0-4097-4cba-b535-fd5b16b8a293",
   "metadata": {},
   "outputs": [],
   "source": [
    "sensit = 0.001\n",
    "aug_signal_a = aug_data[:, aug_topics_inv[\"Positive\"]].astype(np.float64)\n",
    "aug_signal_b = aug_data[:, aug_topics_inv[\"Bearish\"]].astype(np.float64)\n",
    "sent_score = ah.nb_calc_sentiment_score_rand_a(aug_signal_a, aug_signal_b, 28*24, 15*24,sensit)\n",
    "a = ah.nb_backtest_a(price_data, sent_score, start_pnl = 1, buy_sell_fee = 0.0075)\n",
    "\n",
    "for i in range(1,100):\n",
    "    sent_score = ah.nb_calc_sentiment_score_rand_a(aug_signal_a, aug_signal_b, 28*24, 14*24, sensit)\n",
    "    cum_ret = ah.nb_backtest_a(price_data, sent_score, start_pnl = 1, buy_sell_fee = 0.0075)\n",
    "    a = np.vstack((a, cum_ret))\n",
    "    #print(cum_ret)\n",
    "\n",
    "figure(num=None, figsize=(18, 10))\n",
    "plt.plot(a.T)\n",
    "plt.show()  "
   ]
  },
  {
   "cell_type": "code",
   "execution_count": null,
   "id": "6b2557c6-cac1-428f-8c62-56513c5b90b2",
   "metadata": {},
   "outputs": [],
   "source": [
    "aug_signal_a = aug_data[:, aug_topics_inv[\"Positive\"]].astype(np.float64)\n",
    "aug_signal_b = aug_data[:, aug_topics_inv[\"Bearish\"]].astype(np.float64)\n",
    "sent_score = ah.nb_calc_sentiment_score_a(aug_signal_a, aug_signal_b, 26*24, 7*24)\n",
    "pnl = ah.nb_backtest_a(price_data, sent_score, start_pnl=1, buy_sell_fee = 0.0075)\n",
    "figure(num=None, figsize=(18, 10))\n",
    "plt.plot(pnl.T)\n",
    "plt.show()"
   ]
  },
  {
   "cell_type": "code",
   "execution_count": null,
   "id": "4a418eb3-2823-4ee7-9b09-8c6e0b182eaf",
   "metadata": {},
   "outputs": [],
   "source": [
    "aug_signal_a = aug_data[:, aug_topics_inv[\"Positive\"]].astype(np.float64)\n",
    "aug_signal_b = aug_data[:, aug_topics_inv[\"Bearish\"]].astype(np.float64)\n",
    "sent_score = ah.nb_calc_sentiment_score_a(aug_signal_a, aug_signal_b, 27*24, 17*24)\n",
    "pnl = ah.nb_backtest_a(price_data, sent_score, start_pnl=1, buy_sell_fee = 0.0075)\n",
    "figure(num=None, figsize=(18, 10))\n",
    "plt.plot(pnl.T)\n",
    "plt.show()"
   ]
  },
  {
   "cell_type": "code",
   "execution_count": null,
   "id": "8be3c284-d7cc-4d21-9d89-95a515858974",
   "metadata": {},
   "outputs": [],
   "source": []
  },
  {
   "cell_type": "code",
   "execution_count": null,
   "id": "00194acb-887f-45a3-a4b8-0d66160dbc28",
   "metadata": {},
   "outputs": [],
   "source": []
  }
 ],
 "metadata": {
  "kernelspec": {
   "display_name": "Python 3 (ipykernel)",
   "language": "python",
   "name": "python3"
  },
  "language_info": {
   "codemirror_mode": {
    "name": "ipython",
    "version": 3
   },
   "file_extension": ".py",
   "mimetype": "text/x-python",
   "name": "python",
   "nbconvert_exporter": "python",
   "pygments_lexer": "ipython3",
   "version": "3.9.7"
  }
 },
 "nbformat": 4,
 "nbformat_minor": 5
}
